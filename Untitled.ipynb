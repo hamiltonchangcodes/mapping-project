{
 "cells": [
  {
   "cell_type": "code",
   "execution_count": 2,
   "metadata": {},
   "outputs": [
    {
     "name": "stdout",
     "output_type": "stream",
     "text": [
      "Collecting area\n",
      "  Downloading https://files.pythonhosted.org/packages/f4/1b/9e434947304bafaeca6a5760272ded9b43edbcadfe9f15116596b4d6b7eb/area-1.1.1.tar.gz\n",
      "Building wheels for collected packages: area\n",
      "  Building wheel for area (setup.py) ... \u001b[?25ldone\n",
      "\u001b[?25h  Stored in directory: /Users/hamiltonchang/Library/Caches/pip/wheels/66/c0/12/b2ef12e07a617ba6f7aaeb32348ea6f14205cc1985f51a134e\n",
      "Successfully built area\n",
      "Installing collected packages: area\n",
      "Successfully installed area-1.1.1\n"
     ]
    }
   ],
   "source": [
    "!pip install area"
   ]
  },
  {
   "cell_type": "code",
   "execution_count": 3,
   "metadata": {},
   "outputs": [],
   "source": [
    "import pandas as pd\n",
    "import json\n",
    "import math\n",
    "import plotly.express as px\n",
    "from area import area"
   ]
  },
  {
   "cell_type": "code",
   "execution_count": 9,
   "metadata": {},
   "outputs": [],
   "source": [
    "df = pd.read_csv('New_York_City_Population_By_Neighborhood_Tabulation_Areas.csv')\n",
    "nycmap = json.load(open(\"nyc_neighborhoods.geojson\"))"
   ]
  },
  {
   "cell_type": "code",
   "execution_count": 10,
   "metadata": {},
   "outputs": [
    {
     "data": {
      "text/html": [
       "<div>\n",
       "<style scoped>\n",
       "    .dataframe tbody tr th:only-of-type {\n",
       "        vertical-align: middle;\n",
       "    }\n",
       "\n",
       "    .dataframe tbody tr th {\n",
       "        vertical-align: top;\n",
       "    }\n",
       "\n",
       "    .dataframe thead th {\n",
       "        text-align: right;\n",
       "    }\n",
       "</style>\n",
       "<table border=\"1\" class=\"dataframe\">\n",
       "  <thead>\n",
       "    <tr style=\"text-align: right;\">\n",
       "      <th></th>\n",
       "      <th>Borough</th>\n",
       "      <th>Year</th>\n",
       "      <th>FIPS County Code</th>\n",
       "      <th>NTA Code</th>\n",
       "      <th>NTA Name</th>\n",
       "      <th>Population</th>\n",
       "    </tr>\n",
       "  </thead>\n",
       "  <tbody>\n",
       "    <tr>\n",
       "      <th>0</th>\n",
       "      <td>Bronx</td>\n",
       "      <td>2000</td>\n",
       "      <td>5</td>\n",
       "      <td>BX01</td>\n",
       "      <td>Claremont-Bathgate</td>\n",
       "      <td>28149</td>\n",
       "    </tr>\n",
       "    <tr>\n",
       "      <th>1</th>\n",
       "      <td>Bronx</td>\n",
       "      <td>2000</td>\n",
       "      <td>5</td>\n",
       "      <td>BX03</td>\n",
       "      <td>Eastchester-Edenwald-Baychester</td>\n",
       "      <td>35422</td>\n",
       "    </tr>\n",
       "    <tr>\n",
       "      <th>2</th>\n",
       "      <td>Bronx</td>\n",
       "      <td>2000</td>\n",
       "      <td>5</td>\n",
       "      <td>BX05</td>\n",
       "      <td>Bedford Park-Fordham North</td>\n",
       "      <td>55329</td>\n",
       "    </tr>\n",
       "    <tr>\n",
       "      <th>3</th>\n",
       "      <td>Bronx</td>\n",
       "      <td>2000</td>\n",
       "      <td>5</td>\n",
       "      <td>BX06</td>\n",
       "      <td>Belmont</td>\n",
       "      <td>25967</td>\n",
       "    </tr>\n",
       "    <tr>\n",
       "      <th>4</th>\n",
       "      <td>Bronx</td>\n",
       "      <td>2000</td>\n",
       "      <td>5</td>\n",
       "      <td>BX07</td>\n",
       "      <td>Bronxdale</td>\n",
       "      <td>34309</td>\n",
       "    </tr>\n",
       "  </tbody>\n",
       "</table>\n",
       "</div>"
      ],
      "text/plain": [
       "  Borough  Year  FIPS County Code NTA Code                         NTA Name  \\\n",
       "0   Bronx  2000                 5     BX01               Claremont-Bathgate   \n",
       "1   Bronx  2000                 5     BX03  Eastchester-Edenwald-Baychester   \n",
       "2   Bronx  2000                 5     BX05       Bedford Park-Fordham North   \n",
       "3   Bronx  2000                 5     BX06                          Belmont   \n",
       "4   Bronx  2000                 5     BX07                        Bronxdale   \n",
       "\n",
       "   Population  \n",
       "0       28149  \n",
       "1       35422  \n",
       "2       55329  \n",
       "3       25967  \n",
       "4       34309  "
      ]
     },
     "execution_count": 10,
     "metadata": {},
     "output_type": "execute_result"
    }
   ],
   "source": [
    "df.head()"
   ]
  },
  {
   "cell_type": "code",
   "execution_count": null,
   "metadata": {},
   "outputs": [],
   "source": []
  }
 ],
 "metadata": {
  "kernelspec": {
   "display_name": "Python 3",
   "language": "python",
   "name": "python3"
  },
  "language_info": {
   "codemirror_mode": {
    "name": "ipython",
    "version": 3
   },
   "file_extension": ".py",
   "mimetype": "text/x-python",
   "name": "python",
   "nbconvert_exporter": "python",
   "pygments_lexer": "ipython3",
   "version": "3.7.3"
  },
  "toc": {
   "base_numbering": 1,
   "nav_menu": {},
   "number_sections": true,
   "sideBar": true,
   "skip_h1_title": false,
   "title_cell": "Table of Contents",
   "title_sidebar": "Contents",
   "toc_cell": false,
   "toc_position": {},
   "toc_section_display": true,
   "toc_window_display": false
  }
 },
 "nbformat": 4,
 "nbformat_minor": 2
}
